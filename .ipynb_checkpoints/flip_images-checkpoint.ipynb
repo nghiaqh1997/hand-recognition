{
 "cells": [
  {
   "cell_type": "code",
   "execution_count": null,
   "id": "5629a015-8590-4b58-a8e4-e2f4cb4f8d1d",
   "metadata": {},
   "outputs": [],
   "source": [
    "import cv2, os\n",
    "\n",
    "def flip_images():\n",
    "\tgest_folder = \"gestures\"\n",
    "\timages_labels = []\n",
    "\timages = []\n",
    "\tlabels = []\n",
    "\tfor g_id in os.listdir(gest_folder):\n",
    "\t\tfor i in range(1200):\n",
    "\t\t\tpath = gest_folder+\"/\"+g_id+\"/\"+str(i+1)+\".jpg\"\n",
    "\t\t\tnew_path = gest_folder+\"/\"+g_id+\"/\"+str(i+1+1200)+\".jpg\"\n",
    "\t\t\tprint(path)\n",
    "\t\t\timg = cv2.imread(path, 0)\n",
    "\t\t\timg = cv2.flip(img, 1)\n",
    "\t\t\tcv2.imwrite(new_path, img)\n",
    "\n",
    "flip_images()\n"
   ]
  }
 ],
 "metadata": {
  "kernelspec": {
   "display_name": "Python 3 (ipykernel)",
   "language": "python",
   "name": "python3"
  },
  "language_info": {
   "codemirror_mode": {
    "name": "ipython",
    "version": 3
   },
   "file_extension": ".py",
   "mimetype": "text/x-python",
   "name": "python",
   "nbconvert_exporter": "python",
   "pygments_lexer": "ipython3",
   "version": "3.9.7"
  }
 },
 "nbformat": 4,
 "nbformat_minor": 5
}
