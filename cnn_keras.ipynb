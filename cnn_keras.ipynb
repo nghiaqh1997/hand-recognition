{
 "cells": [
  {
   "cell_type": "code",
   "execution_count": 1,
   "id": "5689dc16-a6f2-4243-91f4-d98216d61b3a",
   "metadata": {},
   "outputs": [],
   "source": [
    "import numpy as np\n",
    "import pickle\n",
    "import cv2, os\n",
    "from glob import glob\n",
    "import tensorflow as tf\n",
    "from tensorflow import keras\n",
    "from tensorflow.keras import layers\n"
   ]
  },
  {
   "cell_type": "code",
   "execution_count": 2,
   "id": "cea88fa3-c54d-4b42-abac-315948f6617f",
   "metadata": {},
   "outputs": [],
   "source": [
    "os.environ['TF_CPP_MIN_LOG_LEVEL'] = '3'"
   ]
  },
  {
   "cell_type": "code",
   "execution_count": 3,
   "id": "828f91fb-597b-4f97-b7fd-1f408aef154c",
   "metadata": {},
   "outputs": [],
   "source": [
    "def get_image_size():\n",
    "\timg = cv2.imread('gestures/1/100.jpg', 0)\n",
    "\treturn img.shape\n",
    "\n",
    "def get_num_of_classes():\n",
    "\treturn len(glob('gestures/*'))\n",
    "\n",
    "image_x, image_y = get_image_size()"
   ]
  },
  {
   "cell_type": "code",
   "execution_count": 4,
   "id": "f0855349-41c3-4380-b819-078fff57a854",
   "metadata": {},
   "outputs": [
    {
     "name": "stdout",
     "output_type": "stream",
     "text": [
      "(50, 50)\n",
      "7\n"
     ]
    }
   ],
   "source": [
    "print(get_image_size())\n",
    "print(get_num_of_classes())"
   ]
  },
  {
   "cell_type": "code",
   "execution_count": 5,
   "id": "aa2d56ec-e56c-472b-8b0a-4c56f179204a",
   "metadata": {},
   "outputs": [
    {
     "name": "stdout",
     "output_type": "stream",
     "text": [
      "Model: \"sequential\"\n",
      "_________________________________________________________________\n",
      " Layer (type)                Output Shape              Param #   \n",
      "=================================================================\n",
      " conv2d (Conv2D)             (None, 49, 49, 16)        80        \n",
      "                                                                 \n",
      " max_pooling2d (MaxPooling2D  (None, 25, 25, 16)       0         \n",
      " )                                                               \n",
      "                                                                 \n",
      " conv2d_1 (Conv2D)           (None, 23, 23, 32)        4640      \n",
      "                                                                 \n",
      " max_pooling2d_1 (MaxPooling  (None, 8, 8, 32)         0         \n",
      " 2D)                                                             \n",
      "                                                                 \n",
      " conv2d_2 (Conv2D)           (None, 4, 4, 64)          51264     \n",
      "                                                                 \n",
      " max_pooling2d_2 (MaxPooling  (None, 1, 1, 64)         0         \n",
      " 2D)                                                             \n",
      "                                                                 \n",
      " flatten (Flatten)           (None, 64)                0         \n",
      "                                                                 \n",
      " dense (Dense)               (None, 128)               8320      \n",
      "                                                                 \n",
      " dropout (Dropout)           (None, 128)               0         \n",
      "                                                                 \n",
      " dense_1 (Dense)             (None, 7)                 903       \n",
      "                                                                 \n",
      "=================================================================\n",
      "Total params: 65,207\n",
      "Trainable params: 65,207\n",
      "Non-trainable params: 0\n",
      "_________________________________________________________________\n"
     ]
    },
    {
     "data": {
      "text/plain": [
       "(<keras.engine.sequential.Sequential at 0x20fd492ac70>,\n",
       " [<keras.callbacks.ModelCheckpoint at 0x20fd4948b20>])"
      ]
     },
     "execution_count": 5,
     "metadata": {},
     "output_type": "execute_result"
    }
   ],
   "source": [
    "def cnn_model():\n",
    "    num_of_classes = get_num_of_classes()\n",
    "    model = keras.Sequential()\n",
    "    model.add(layers.Conv2D(16,(2,2), input_shape=(image_x,image_y,1), activation=\"relu\"))\n",
    "    model.add(layers.MaxPooling2D(pool_size=(2,2),strides=(2,2),padding='same'))\n",
    "    model.add(layers.Conv2D(32,(3,3), activation=\"relu\"))\n",
    "    model.add(layers.MaxPooling2D(pool_size=(3,3),strides=(3,3),padding='same'))\n",
    "    model.add(layers.Conv2D(64,(5,5), activation=\"relu\"))\n",
    "    model.add(layers.MaxPooling2D(pool_size=(5,5),strides=(5,5),padding='same'))\n",
    "    model.add(layers.Flatten())\n",
    "    model.add(layers.Dense(128,activation=\"relu\"))\n",
    "    model.add(layers.Dropout(0.2))\n",
    "    model.add(layers.Dense(num_of_classes,activation=\"softmax\"))\n",
    "    model.summary()\n",
    "    model.compile(\n",
    "        optimizer = keras.optimizers.SGD(learning_rate=0.01),\n",
    "        loss = keras.losses.CategoricalCrossentropy(),\n",
    "        metrics=['accuracy']\n",
    "    )\n",
    "    filepath=\"cnn_model_keras2.h5\"\n",
    "    checkpoint1 = tf.keras.callbacks.ModelCheckpoint(\n",
    "        filepath,\n",
    "        monitor='val_accuracy',\n",
    "        verbose=1, save_best_only=True, mode='max'\n",
    "    )\n",
    "    callbacks_list = [checkpoint1]\n",
    "    tf.keras.utils.plot_model(model=model, to_file=\"model.png\", show_shapes=True)\n",
    "    return model,callbacks_list  \n",
    "cnn_model()"
   ]
  },
  {
   "cell_type": "code",
   "execution_count": 6,
   "id": "9c9f1e52-4d0f-426e-b0dc-fd51f8bf8130",
   "metadata": {},
   "outputs": [
    {
     "name": "stdout",
     "output_type": "stream",
     "text": [
      "(1400,)\n",
      "(14000,)\n",
      "(1400, 50, 50)\n",
      "(14000, 50, 50)\n",
      "change\n",
      "(1400, 7)\n",
      "(14000, 7)\n",
      "(1400, 50, 50, 1)\n",
      "(14000, 50, 50, 1)\n"
     ]
    }
   ],
   "source": [
    "with open(\"train_images.pkl\", \"rb\") as f:\n",
    "    train_images = np.array(pickle.load(f))\n",
    "with open(\"train_labels.pkl\", \"rb\") as f:\n",
    "    train_labels = np.array(pickle.load(f), dtype=np.int32)\n",
    "\n",
    "with open(\"val_images.pkl\", \"rb\") as f:\n",
    "    val_images = np.array(pickle.load(f))\n",
    "with open(\"val_labels.pkl\", \"rb\") as f:\n",
    "    val_labels = np.array(pickle.load(f), dtype=np.int32)\n",
    "print(val_labels.shape)\n",
    "print(train_labels.shape)\n",
    "print(val_images.shape)\n",
    "print(train_images.shape)\n",
    "print(\"change\")\n",
    "train_images = np.reshape(train_images, (train_images.shape[0], image_x, image_y, 1))\n",
    "val_images = np.reshape(val_images, (val_images.shape[0], image_x, image_y, 1))\n",
    "train_labels = tf.keras.utils.to_categorical(train_labels)\n",
    "val_labels = tf.keras.utils.to_categorical(val_labels)\n",
    "    \n",
    "print(val_labels.shape)\n",
    "print(train_labels.shape)\n",
    "print(val_images.shape)\n",
    "print(train_images.shape)\n"
   ]
  },
  {
   "cell_type": "code",
   "execution_count": 7,
   "id": "6ffadda6",
   "metadata": {},
   "outputs": [
    {
     "name": "stdout",
     "output_type": "stream",
     "text": [
      "Model: \"sequential_1\"\n",
      "_________________________________________________________________\n",
      " Layer (type)                Output Shape              Param #   \n",
      "=================================================================\n",
      " conv2d_3 (Conv2D)           (None, 49, 49, 16)        80        \n",
      "                                                                 \n",
      " max_pooling2d_3 (MaxPooling  (None, 25, 25, 16)       0         \n",
      " 2D)                                                             \n",
      "                                                                 \n",
      " conv2d_4 (Conv2D)           (None, 23, 23, 32)        4640      \n",
      "                                                                 \n",
      " max_pooling2d_4 (MaxPooling  (None, 8, 8, 32)         0         \n",
      " 2D)                                                             \n",
      "                                                                 \n",
      " conv2d_5 (Conv2D)           (None, 4, 4, 64)          51264     \n",
      "                                                                 \n",
      " max_pooling2d_5 (MaxPooling  (None, 1, 1, 64)         0         \n",
      " 2D)                                                             \n",
      "                                                                 \n",
      " flatten_1 (Flatten)         (None, 64)                0         \n",
      "                                                                 \n",
      " dense_2 (Dense)             (None, 128)               8320      \n",
      "                                                                 \n",
      " dropout_1 (Dropout)         (None, 128)               0         \n",
      "                                                                 \n",
      " dense_3 (Dense)             (None, 7)                 903       \n",
      "                                                                 \n",
      "=================================================================\n",
      "Total params: 65,207\n",
      "Trainable params: 65,207\n",
      "Non-trainable params: 0\n",
      "_________________________________________________________________\n",
      "Model: \"sequential_1\"\n",
      "_________________________________________________________________\n",
      " Layer (type)                Output Shape              Param #   \n",
      "=================================================================\n",
      " conv2d_3 (Conv2D)           (None, 49, 49, 16)        80        \n",
      "                                                                 \n",
      " max_pooling2d_3 (MaxPooling  (None, 25, 25, 16)       0         \n",
      " 2D)                                                             \n",
      "                                                                 \n",
      " conv2d_4 (Conv2D)           (None, 23, 23, 32)        4640      \n",
      "                                                                 \n",
      " max_pooling2d_4 (MaxPooling  (None, 8, 8, 32)         0         \n",
      " 2D)                                                             \n",
      "                                                                 \n",
      " conv2d_5 (Conv2D)           (None, 4, 4, 64)          51264     \n",
      "                                                                 \n",
      " max_pooling2d_5 (MaxPooling  (None, 1, 1, 64)         0         \n",
      " 2D)                                                             \n",
      "                                                                 \n",
      " flatten_1 (Flatten)         (None, 64)                0         \n",
      "                                                                 \n",
      " dense_2 (Dense)             (None, 128)               8320      \n",
      "                                                                 \n",
      " dropout_1 (Dropout)         (None, 128)               0         \n",
      "                                                                 \n",
      " dense_3 (Dense)             (None, 7)                 903       \n",
      "                                                                 \n",
      "=================================================================\n",
      "Total params: 65,207\n",
      "Trainable params: 65,207\n",
      "Non-trainable params: 0\n",
      "_________________________________________________________________\n"
     ]
    }
   ],
   "source": [
    "model, callbacks_list = cnn_model()\n",
    "model.summary()"
   ]
  },
  {
   "cell_type": "code",
   "execution_count": 8,
   "id": "15fcdd26",
   "metadata": {},
   "outputs": [
    {
     "name": "stdout",
     "output_type": "stream",
     "text": [
      "Epoch 1/15\n",
      "28/28 [==============================] - ETA: 0s - loss: 10.3242 - accuracy: 0.2066\n",
      "Epoch 1: val_accuracy improved from -inf to 0.38929, saving model to cnn_model_keras2.h5\n",
      "28/28 [==============================] - 29s 1s/step - loss: 10.3242 - accuracy: 0.2066 - val_loss: 1.6578 - val_accuracy: 0.3893\n",
      "Epoch 2/15\n",
      "28/28 [==============================] - ETA: 0s - loss: 1.0733 - accuracy: 0.6374\n",
      "Epoch 2: val_accuracy improved from 0.38929 to 0.96000, saving model to cnn_model_keras2.h5\n",
      "28/28 [==============================] - 30s 1s/step - loss: 1.0733 - accuracy: 0.6374 - val_loss: 0.2575 - val_accuracy: 0.9600\n",
      "Epoch 3/15\n",
      "28/28 [==============================] - ETA: 0s - loss: 0.1600 - accuracy: 0.9654\n",
      "Epoch 3: val_accuracy improved from 0.96000 to 0.99714, saving model to cnn_model_keras2.h5\n",
      "28/28 [==============================] - 32s 1s/step - loss: 0.1600 - accuracy: 0.9654 - val_loss: 0.0249 - val_accuracy: 0.9971\n",
      "Epoch 4/15\n",
      "28/28 [==============================] - ETA: 0s - loss: 0.0488 - accuracy: 0.9891\n",
      "Epoch 4: val_accuracy improved from 0.99714 to 0.99786, saving model to cnn_model_keras2.h5\n",
      "28/28 [==============================] - 31s 1s/step - loss: 0.0488 - accuracy: 0.9891 - val_loss: 0.0084 - val_accuracy: 0.9979\n",
      "Epoch 5/15\n",
      "28/28 [==============================] - ETA: 0s - loss: 0.0250 - accuracy: 0.9947\n",
      "Epoch 5: val_accuracy improved from 0.99786 to 1.00000, saving model to cnn_model_keras2.h5\n",
      "28/28 [==============================] - 31s 1s/step - loss: 0.0250 - accuracy: 0.9947 - val_loss: 0.0034 - val_accuracy: 1.0000\n",
      "Epoch 6/15\n",
      "28/28 [==============================] - ETA: 0s - loss: 0.0149 - accuracy: 0.9966\n",
      "Epoch 6: val_accuracy did not improve from 1.00000\n",
      "28/28 [==============================] - 31s 1s/step - loss: 0.0149 - accuracy: 0.9966 - val_loss: 0.0018 - val_accuracy: 1.0000\n",
      "Epoch 7/15\n",
      "28/28 [==============================] - ETA: 0s - loss: 0.0107 - accuracy: 0.9979\n",
      "Epoch 7: val_accuracy did not improve from 1.00000\n",
      "28/28 [==============================] - 30s 1s/step - loss: 0.0107 - accuracy: 0.9979 - val_loss: 0.0013 - val_accuracy: 1.0000\n",
      "Epoch 8/15\n",
      "28/28 [==============================] - ETA: 0s - loss: 0.0090 - accuracy: 0.9981\n",
      "Epoch 8: val_accuracy did not improve from 1.00000\n",
      "28/28 [==============================] - 33s 1s/step - loss: 0.0090 - accuracy: 0.9981 - val_loss: 7.6739e-04 - val_accuracy: 1.0000\n",
      "Epoch 9/15\n",
      "28/28 [==============================] - ETA: 0s - loss: 0.0074 - accuracy: 0.9987\n",
      "Epoch 9: val_accuracy did not improve from 1.00000\n",
      "28/28 [==============================] - 33s 1s/step - loss: 0.0074 - accuracy: 0.9987 - val_loss: 5.5143e-04 - val_accuracy: 1.0000\n",
      "Epoch 10/15\n",
      "28/28 [==============================] - ETA: 0s - loss: 0.0066 - accuracy: 0.9987\n",
      "Epoch 10: val_accuracy did not improve from 1.00000\n",
      "28/28 [==============================] - 33s 1s/step - loss: 0.0066 - accuracy: 0.9987 - val_loss: 4.6584e-04 - val_accuracy: 1.0000\n",
      "Epoch 11/15\n",
      "28/28 [==============================] - ETA: 0s - loss: 0.0049 - accuracy: 0.9992\n",
      "Epoch 11: val_accuracy did not improve from 1.00000\n",
      "28/28 [==============================] - 33s 1s/step - loss: 0.0049 - accuracy: 0.9992 - val_loss: 4.7824e-04 - val_accuracy: 1.0000\n",
      "Epoch 12/15\n",
      "28/28 [==============================] - ETA: 0s - loss: 0.0039 - accuracy: 0.9994\n",
      "Epoch 12: val_accuracy did not improve from 1.00000\n",
      "28/28 [==============================] - 34s 1s/step - loss: 0.0039 - accuracy: 0.9994 - val_loss: 3.3173e-04 - val_accuracy: 1.0000\n",
      "Epoch 13/15\n",
      "28/28 [==============================] - ETA: 0s - loss: 0.0040 - accuracy: 0.9991\n",
      "Epoch 13: val_accuracy did not improve from 1.00000\n",
      "28/28 [==============================] - 34s 1s/step - loss: 0.0040 - accuracy: 0.9991 - val_loss: 2.7826e-04 - val_accuracy: 1.0000\n",
      "Epoch 14/15\n",
      "28/28 [==============================] - ETA: 0s - loss: 0.0044 - accuracy: 0.9991\n",
      "Epoch 14: val_accuracy did not improve from 1.00000\n",
      "28/28 [==============================] - 34s 1s/step - loss: 0.0044 - accuracy: 0.9991 - val_loss: 2.3215e-04 - val_accuracy: 1.0000\n",
      "Epoch 15/15\n",
      "28/28 [==============================] - ETA: 0s - loss: 0.0035 - accuracy: 0.9991\n",
      "Epoch 15: val_accuracy did not improve from 1.00000\n",
      "28/28 [==============================] - 34s 1s/step - loss: 0.0035 - accuracy: 0.9991 - val_loss: 1.9339e-04 - val_accuracy: 1.0000\n",
      "CNN Error: 0.00%\n"
     ]
    }
   ],
   "source": [
    "model.fit(train_images, train_labels, \n",
    "    validation_data=(val_images, val_labels), \n",
    "    epochs=15, batch_size=500, callbacks=callbacks_list)\n",
    "scores = model.evaluate(val_images, val_labels, verbose=0)\n",
    "print(\"CNN Error: %.2f%%\" % (100-scores[1]*100))\n",
    "    \n",
    "\n",
    "tf.keras.backend.clear_session();"
   ]
  }
 ],
 "metadata": {
  "kernelspec": {
   "display_name": "Python 3 (ipykernel)",
   "language": "python",
   "name": "python3"
  },
  "language_info": {
   "codemirror_mode": {
    "name": "ipython",
    "version": 3
   },
   "file_extension": ".py",
   "mimetype": "text/x-python",
   "name": "python",
   "nbconvert_exporter": "python",
   "pygments_lexer": "ipython3",
   "version": "3.9.7"
  }
 },
 "nbformat": 4,
 "nbformat_minor": 5
}
