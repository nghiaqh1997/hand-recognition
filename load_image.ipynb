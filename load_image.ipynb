{
 "cells": [
  {
   "cell_type": "code",
   "execution_count": 1,
   "id": "8a800403",
   "metadata": {},
   "outputs": [],
   "source": [
    "import cv2\n",
    "from glob import glob\n",
    "import numpy as np\n",
    "import random\n",
    "from sklearn.utils import shuffle\n",
    "import pickle\n",
    "import os"
   ]
  },
  {
   "cell_type": "code",
   "execution_count": 2,
   "id": "5c42e6f0",
   "metadata": {},
   "outputs": [],
   "source": [
    "def pickle_images_labels():\n",
    "\timages_labels = []\n",
    "\timages = glob(\"gestures/*/*.jpg\")\n",
    "\timages.sort()\n",
    "\tfor image in images:\n",
    "\t\t#print(image)\n",
    "\t\tlabel = image[image.find(os.sep)+1: image.rfind(os.sep)]\n",
    "\t\timg = cv2.imread(image, 0)\n",
    "\t\timages_labels.append((np.array(img, dtype=np.uint8), int(label)))\n",
    "\treturn images_labels"
   ]
  },
  {
   "cell_type": "code",
   "execution_count": 3,
   "id": "d854db64",
   "metadata": {},
   "outputs": [
    {
     "name": "stdout",
     "output_type": "stream",
     "text": [
      "16800\n"
     ]
    }
   ],
   "source": [
    "print(len(pickle_images_labels()))"
   ]
  },
  {
   "cell_type": "code",
   "execution_count": 4,
   "id": "7ecc6470",
   "metadata": {},
   "outputs": [
    {
     "name": "stdout",
     "output_type": "stream",
     "text": [
      "Length of images_labels 16800\n"
     ]
    }
   ],
   "source": [
    "images_labels = pickle_images_labels()\n",
    "images_labels = shuffle(shuffle(shuffle(shuffle(images_labels))))\n",
    "images, labels = zip(*images_labels)\n",
    "print(\"Length of images_labels\", len(images_labels))"
   ]
  },
  {
   "cell_type": "code",
   "execution_count": 5,
   "id": "4b1210c8",
   "metadata": {},
   "outputs": [
    {
     "name": "stdout",
     "output_type": "stream",
     "text": [
      "Length of train_images 14000\n"
     ]
    }
   ],
   "source": [
    "train_images = images[:int(5/6*len(images))]\n",
    "print(\"Length of train_images\", len(train_images))\n",
    "\n",
    "with open(\"train_images.pkl\", \"wb\") as f:\n",
    "\tpickle.dump(train_images, f)\n",
    "del train_images"
   ]
  },
  {
   "cell_type": "code",
   "execution_count": 6,
   "id": "23183ea1",
   "metadata": {},
   "outputs": [
    {
     "name": "stdout",
     "output_type": "stream",
     "text": [
      "Length of train_labels 14000\n"
     ]
    }
   ],
   "source": [
    "train_labels = labels[:int(5/6*len(labels))]\n",
    "print(\"Length of train_labels\", len(train_labels))\n",
    "with open(\"train_labels.pkl\", \"wb\") as f:\n",
    "\tpickle.dump(train_labels, f)\n",
    "del train_labels"
   ]
  },
  {
   "cell_type": "code",
   "execution_count": 7,
   "id": "10c1f7f3",
   "metadata": {},
   "outputs": [
    {
     "name": "stdout",
     "output_type": "stream",
     "text": [
      "Length of test_images 1400\n"
     ]
    }
   ],
   "source": [
    "test_images = images[int(5/6*len(images)):int(11/12*len(images))]\n",
    "print(\"Length of test_images\", len(test_images))\n",
    "with open(\"test_images.pkl\", \"wb\") as f:\n",
    "\tpickle.dump(test_images, f)\n",
    "del test_images"
   ]
  },
  {
   "cell_type": "code",
   "execution_count": 8,
   "id": "0a058c8c",
   "metadata": {},
   "outputs": [
    {
     "name": "stdout",
     "output_type": "stream",
     "text": [
      "Length of test_labels 1400\n"
     ]
    }
   ],
   "source": [
    "test_labels = labels[int(5/6*len(labels)):int(11/12*len(images))]\n",
    "print(\"Length of test_labels\", len(test_labels))\n",
    "with open(\"test_labels.pkl\", \"wb\") as f:\n",
    "\tpickle.dump(test_labels, f)\n",
    "del test_labels"
   ]
  },
  {
   "cell_type": "code",
   "execution_count": 9,
   "id": "ee4fde71",
   "metadata": {},
   "outputs": [
    {
     "name": "stdout",
     "output_type": "stream",
     "text": [
      "Length of test_images 1400\n",
      "Length of val_labels 1400\n"
     ]
    }
   ],
   "source": [
    "val_images = images[int(11/12*len(images)):]\n",
    "print(\"Length of test_images\", len(val_images))\n",
    "with open(\"val_images.pkl\", \"wb\") as f:\n",
    "    pickle.dump(val_images, f)\n",
    "del val_images\n",
    "\n",
    "val_labels = labels[int(11/12*len(labels)):]\n",
    "print(\"Length of val_labels\", len(val_labels))\n",
    "with open(\"val_labels.pkl\", \"wb\") as f:\n",
    "    pickle.dump(val_labels, f)\n",
    "del val_labels"
   ]
  }
 ],
 "metadata": {
  "kernelspec": {
   "display_name": "Python 3 (ipykernel)",
   "language": "python",
   "name": "python3"
  },
  "language_info": {
   "codemirror_mode": {
    "name": "ipython",
    "version": 3
   },
   "file_extension": ".py",
   "mimetype": "text/x-python",
   "name": "python",
   "nbconvert_exporter": "python",
   "pygments_lexer": "ipython3",
   "version": "3.9.7"
  }
 },
 "nbformat": 4,
 "nbformat_minor": 5
}
